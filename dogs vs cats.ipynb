{
 "cells": [
  {
   "cell_type": "code",
   "execution_count": 29,
   "metadata": {},
   "outputs": [],
   "source": [
    "import os, shutil\n",
    "\n",
    "import numpy as np\n",
    "import pandas as pd\n",
    "import matplotlib.pyplot as plt\n",
    "import seaborn as sns\n",
    "from tensorflow.keras import layers\n",
    "from tensorflow.keras import models\n",
    "from tensorflow.keras import optimizers\n",
    "from tensorflow.keras.preprocessing.image import ImageDataGenerator"
   ]
  },
  {
   "cell_type": "code",
   "execution_count": 2,
   "metadata": {},
   "outputs": [],
   "source": [
    "# def copyfile(animal, origin, end_dir):\n",
    "#   fnames = [f'cat.{i}.jpg' for i in range(len(os.listdir(train_origin_dir)))]\n",
    "#   for fname in fnames:\n",
    "#     src = os.path.join(origin_dir, fname)\n",
    "#     dest = os.path.join(train_cats, fname)\n",
    "#     shutil.copyfile(src, dest)"
   ]
  },
  {
   "cell_type": "code",
   "execution_count": 9,
   "metadata": {},
   "outputs": [],
   "source": [
    "origin_dir = \"/Users/USER/Downloads/dogs-vs-cats\"\n",
    "\n",
    "train_origin_dir = \"/Users/USER/Downloads/dogs-vs-cats/train\"\n",
    "test_origin_dir = \"/Users/USER/Downloads/dogs-vs-cats/test\"\n",
    "\n",
    "base_dir = \"/Users/USER/Downloads/cats-and-dogs\"\n",
    "os.mkdir(base_dir)\n",
    "\n",
    "\n",
    "train_dir = os.path.join(base_dir, \"train\")\n",
    "os.mkdir(train_dir)\n",
    "\n",
    "val_dir = os.path.join(base_dir, \"validation\")\n",
    "os.mkdir(val_dir)\n",
    "\n",
    "test_dir = os.path.join(base_dir, \"test\")\n",
    "os.mkdir(test_dir)\n",
    "\n",
    "#cats\n",
    "train_cats = os.path.join(train_dir, \"cats\")\n",
    "os.mkdir(train_cats)\n",
    "test_cats = os.path.join(test_dir, \"cats\")\n",
    "os.mkdir(test_cats)\n",
    "val_cats = os.path.join(val_dir, \"cats\")\n",
    "os.mkdir(val_cats)\n",
    "\n",
    "#dogs\n",
    "train_dogs = os.path.join(train_dir, \"dogs\")\n",
    "os.mkdir(train_dogs)\n",
    "test_dogs = os.path.join(test_dir, \"dogs\")\n",
    "os.mkdir(test_dogs)\n",
    "val_dogs = os.path.join(val_dir, \"dogs\")\n",
    "os.mkdir(val_dogs)\n",
    "\n",
    "# fnames = [f'cat.{i}.jpg' for i in range(len(os.listdir(train_origin_dir)))]\n",
    "# cats_count = 0\n",
    "# dogs_count = 0\n",
    "\n",
    "# cats_val = 0\n",
    "# dogs_val = 0\n",
    "\n",
    "# for file in os.listdir(train_origin_dir):\n",
    "#   while cats_count < 10000:\n",
    "#     if \"cat\" in file:\n",
    "#       src = os.path.join(train_origin_dir, file)\n",
    "#       dest = os.path.join(train_cats, file)\n",
    "#       shutil.copyfile(src, dest)\n",
    "#       print(f\"copied {file}\")\n",
    "#       cats_count += 1\n",
    "\n",
    "# while cats_val < 2500:\n",
    "#   if \"cat\" in file:\n",
    "#     src = os.path.join(train_origin_dir, file)\n",
    "#     dest = os.path.join(val_cats, file)\n",
    "#     shutil.copyfile(src, dest)\n",
    "#     cats_val += 1\n",
    "    \n",
    "# while dogs_count < 10000:\n",
    "#     if \"dog\" in file:\n",
    "#       src = os.path.join(train_origin_dir, file)\n",
    "#       dest = os.path.join(train_dogs, file)\n",
    "#       shutil.copyfile(src, dest)\n",
    "#       cats_count += 1\n",
    "\n",
    "# while dogs_val < 2500:\n",
    "#   if \"dog\" in file:\n",
    "    # src = os.path.join(train_origin_dir, file)\n",
    "    # dest = os.path.join(val_dogs, file)\n",
    "    # shutil.copyfile(src, dest)\n",
    "    # cats_val += 1\n",
    "\n",
    "files = [f\"cat.{i}.jpg\" for i in range(10000)]\n",
    "for file in files:\n",
    "    src = os.path.join(train_origin_dir, file)\n",
    "    dest = os.path.join(train_cats, file)\n",
    "    shutil.copyfile(src, dest)\n",
    "\n",
    "# print(os.listdir(des/t))\n",
    "\n",
    "files = [f\"cat.{i}.jpg\" for i in range(10000, 12500)]\n",
    "for file in files:\n",
    "    src = os.path.join(train_origin_dir, file)\n",
    "    dest = os.path.join(val_cats, file)\n",
    "    shutil.copyfile(src, dest)\n",
    "\n",
    "# print(os.listdir(dest))\n",
    "\n",
    "files = [f\"dog.{i}.jpg\" for i in range(10000)]\n",
    "for file in files:\n",
    "    src = os.path.join(train_origin_dir, file)\n",
    "    dest = os.path.join(train_dogs, file)\n",
    "    shutil.copyfile(src, dest)\n",
    "\n",
    "# print(os.listdir(dest))\n",
    "\n",
    "\n",
    "files = [f\"dog.{i}.jpg\" for i in range(10000, 12500)]\n",
    "for file in files:\n",
    "    src = os.path.join(train_origin_dir, file)\n",
    "    dest = os.path.join(val_dogs, file)\n",
    "    shutil.copyfile(src, dest)\n",
    "\n",
    "\n"
   ]
  },
  {
   "cell_type": "code",
   "execution_count": 10,
   "metadata": {},
   "outputs": [],
   "source": [
    "# for file in os.listdir(test_origin_dir):\n",
    "#   src = os.path.join(test_origin_dir, file)\n",
    "#   dest = os.path.join(test_dir, file)\n",
    "#   shutil.copyfile(src, dest)\n"
   ]
  },
  {
   "cell_type": "code",
   "execution_count": 11,
   "metadata": {},
   "outputs": [
    {
     "name": "stdout",
     "output_type": "stream",
     "text": [
      "Total training cat images:  10000\n",
      "Total training dog images:  10000\n"
     ]
    }
   ],
   "source": [
    "print(\"Total training cat images: \", len(os.listdir(train_cats)))\n",
    "print(\"Total training dog images: \", len(os.listdir(train_dogs)))"
   ]
  },
  {
   "cell_type": "code",
   "execution_count": 49,
   "metadata": {},
   "outputs": [],
   "source": [
    "model = models.Sequential()\n",
    "\n",
    "model.add(layers.Conv2D(32, (3, 3), activation=\"relu\", input_shape=(150, 150, 3)))\n",
    "model.add(layers.MaxPooling2D(2, 2))\n",
    "model.add(layers.Conv2D(64, (3, 3), activation=\"relu\"))\n",
    "model.add(layers.MaxPooling2D(2, 2))\n",
    "model.add(layers.Conv2D(128, (3, 3), activation=\"relu\"))\n",
    "model.add(layers.MaxPooling2D(2, 2))\n",
    "model.add(layers.Conv2D(512, (3, 3), activation=\"relu\"))\n",
    "model.add(layers.MaxPooling2D(2, 2))\n",
    "model.add(layers.Flatten())\n",
    "model.add(layers.Dense(1024, activation=\"relu\"))\n",
    "model.add(layers.Dense(1, activation=\"sigmoid\"))\n"
   ]
  },
  {
   "cell_type": "code",
   "execution_count": 50,
   "metadata": {},
   "outputs": [
    {
     "name": "stdout",
     "output_type": "stream",
     "text": [
      "Model: \"sequential_3\"\n",
      "_________________________________________________________________\n",
      " Layer (type)                Output Shape              Param #   \n",
      "=================================================================\n",
      " conv2d_12 (Conv2D)          (None, 148, 148, 32)      896       \n",
      "                                                                 \n",
      " max_pooling2d_12 (MaxPoolin  (None, 74, 74, 32)       0         \n",
      " g2D)                                                            \n",
      "                                                                 \n",
      " conv2d_13 (Conv2D)          (None, 72, 72, 64)        18496     \n",
      "                                                                 \n",
      " max_pooling2d_13 (MaxPoolin  (None, 36, 36, 64)       0         \n",
      " g2D)                                                            \n",
      "                                                                 \n",
      " conv2d_14 (Conv2D)          (None, 34, 34, 128)       73856     \n",
      "                                                                 \n",
      " max_pooling2d_14 (MaxPoolin  (None, 17, 17, 128)      0         \n",
      " g2D)                                                            \n",
      "                                                                 \n",
      " conv2d_15 (Conv2D)          (None, 15, 15, 512)       590336    \n",
      "                                                                 \n",
      " max_pooling2d_15 (MaxPoolin  (None, 7, 7, 512)        0         \n",
      " g2D)                                                            \n",
      "                                                                 \n",
      " flatten_3 (Flatten)         (None, 25088)             0         \n",
      "                                                                 \n",
      " dense_6 (Dense)             (None, 1024)              25691136  \n",
      "                                                                 \n",
      " dense_7 (Dense)             (None, 1)                 1025      \n",
      "                                                                 \n",
      "=================================================================\n",
      "Total params: 26,375,745\n",
      "Trainable params: 26,375,745\n",
      "Non-trainable params: 0\n",
      "_________________________________________________________________\n"
     ]
    }
   ],
   "source": [
    "model.summary()"
   ]
  },
  {
   "cell_type": "code",
   "execution_count": 51,
   "metadata": {},
   "outputs": [],
   "source": [
    "model.compile(\n",
    "  loss=\"binary_crossentropy\",\n",
    "  optimizer=optimizers.RMSprop(learning_rate=1e-4),\n",
    "  metrics=[\"acc\"]\n",
    "  )"
   ]
  },
  {
   "cell_type": "code",
   "execution_count": 52,
   "metadata": {},
   "outputs": [
    {
     "name": "stdout",
     "output_type": "stream",
     "text": [
      "Found 20000 images belonging to 2 classes.\n",
      "Found 5000 images belonging to 2 classes.\n"
     ]
    }
   ],
   "source": [
    "train_datagen = ImageDataGenerator(rescale=1./255)\n",
    "test_datagen = ImageDataGenerator(rescale=1./255)\n",
    "\n",
    "train_generator = train_datagen.flow_from_directory(\n",
    "  train_dir,\n",
    "  target_size=(150, 150),\n",
    "  batch_size=20,\n",
    "  class_mode=\"binary\"\n",
    ")\n",
    "\n",
    "validation_generator = test_datagen.flow_from_directory(\n",
    "  val_dir,\n",
    "  target_size=(150, 150),\n",
    "  batch_size=20,\n",
    "  class_mode=\"binary\"\n",
    ")"
   ]
  },
  {
   "cell_type": "code",
   "execution_count": 53,
   "metadata": {},
   "outputs": [
    {
     "name": "stdout",
     "output_type": "stream",
     "text": [
      "data batch shape: (20, 150, 150, 3)\n",
      "Labels batch shape:  (20,)\n"
     ]
    }
   ],
   "source": [
    "for data_batch, labels_batch in train_generator:\n",
    "  print(\"data batch shape:\", data_batch.shape)\n",
    "  print(\"Labels batch shape: \", labels_batch.shape)\n",
    "  break"
   ]
  },
  {
   "cell_type": "code",
   "execution_count": 54,
   "metadata": {},
   "outputs": [
    {
     "name": "stdout",
     "output_type": "stream",
     "text": [
      "Epoch 1/30\n",
      "100/100 [==============================] - 593s 5s/step - loss: 0.6996 - acc: 0.5160 - val_loss: 0.6787 - val_acc: 0.5360\n",
      "Epoch 2/30\n",
      "100/100 [==============================] - 419s 4s/step - loss: 0.6692 - acc: 0.5980 - val_loss: 0.6504 - val_acc: 0.6350\n",
      "Epoch 3/30\n",
      "100/100 [==============================] - 300s 3s/step - loss: 0.6494 - acc: 0.6155 - val_loss: 0.6138 - val_acc: 0.6580\n",
      "Epoch 4/30\n",
      "100/100 [==============================] - 300s 3s/step - loss: 0.6145 - acc: 0.6725 - val_loss: 0.6541 - val_acc: 0.6180\n",
      "Epoch 5/30\n",
      "100/100 [==============================] - 233s 2s/step - loss: 0.5817 - acc: 0.6875 - val_loss: 0.6572 - val_acc: 0.6270\n",
      "Epoch 6/30\n",
      "100/100 [==============================] - 197s 2s/step - loss: 0.5647 - acc: 0.7120 - val_loss: 0.5642 - val_acc: 0.7260\n",
      "Epoch 7/30\n",
      "100/100 [==============================] - 301s 3s/step - loss: 0.5529 - acc: 0.7200 - val_loss: 0.5252 - val_acc: 0.7490\n",
      "Epoch 8/30\n",
      "100/100 [==============================] - 354s 4s/step - loss: 0.5266 - acc: 0.7425 - val_loss: 0.5639 - val_acc: 0.7050\n",
      "Epoch 9/30\n",
      "100/100 [==============================] - 278s 3s/step - loss: 0.5011 - acc: 0.7525 - val_loss: 0.5280 - val_acc: 0.7480\n",
      "Epoch 10/30\n",
      "100/100 [==============================] - 353s 4s/step - loss: 0.4897 - acc: 0.7560 - val_loss: 0.4904 - val_acc: 0.7790\n",
      "Epoch 11/30\n",
      "100/100 [==============================] - 249s 2s/step - loss: 0.4856 - acc: 0.7635 - val_loss: 0.4870 - val_acc: 0.7760\n",
      "Epoch 12/30\n",
      "100/100 [==============================] - 243s 2s/step - loss: 0.4922 - acc: 0.7695 - val_loss: 0.4669 - val_acc: 0.7890\n",
      "Epoch 13/30\n",
      "100/100 [==============================] - 230s 2s/step - loss: 0.4692 - acc: 0.7710 - val_loss: 0.5007 - val_acc: 0.7600\n",
      "Epoch 14/30\n",
      "100/100 [==============================] - 236s 2s/step - loss: 0.4488 - acc: 0.7925 - val_loss: 0.4919 - val_acc: 0.7500\n",
      "Epoch 15/30\n",
      "100/100 [==============================] - 280s 3s/step - loss: 0.4630 - acc: 0.7830 - val_loss: 0.4775 - val_acc: 0.7720\n",
      "Epoch 16/30\n",
      "100/100 [==============================] - 244s 2s/step - loss: 0.4307 - acc: 0.7950 - val_loss: 0.4312 - val_acc: 0.8060\n",
      "Epoch 17/30\n",
      "100/100 [==============================] - 180s 2s/step - loss: 0.4333 - acc: 0.7980 - val_loss: 0.4768 - val_acc: 0.7620\n",
      "Epoch 18/30\n",
      "100/100 [==============================] - 190s 2s/step - loss: 0.4451 - acc: 0.8025 - val_loss: 0.4610 - val_acc: 0.7770\n",
      "Epoch 19/30\n",
      "100/100 [==============================] - 236s 2s/step - loss: 0.4326 - acc: 0.8095 - val_loss: 0.4808 - val_acc: 0.7750\n",
      "Epoch 20/30\n",
      "100/100 [==============================] - 196s 2s/step - loss: 0.4117 - acc: 0.8130 - val_loss: 0.4164 - val_acc: 0.8170\n",
      "Epoch 21/30\n",
      "100/100 [==============================] - 247s 2s/step - loss: 0.4177 - acc: 0.8005 - val_loss: 0.4748 - val_acc: 0.7710\n",
      "Epoch 22/30\n",
      "100/100 [==============================] - 236s 2s/step - loss: 0.4030 - acc: 0.8165 - val_loss: 0.4206 - val_acc: 0.7890\n",
      "Epoch 23/30\n",
      "100/100 [==============================] - 270s 3s/step - loss: 0.3912 - acc: 0.8210 - val_loss: 0.4180 - val_acc: 0.8120\n",
      "Epoch 24/30\n",
      "100/100 [==============================] - 227s 2s/step - loss: 0.3864 - acc: 0.8280 - val_loss: 0.4611 - val_acc: 0.7870\n",
      "Epoch 25/30\n",
      "100/100 [==============================] - 198s 2s/step - loss: 0.3901 - acc: 0.8295 - val_loss: 0.4862 - val_acc: 0.7920\n",
      "Epoch 26/30\n",
      "100/100 [==============================] - 254s 3s/step - loss: 0.3904 - acc: 0.8180 - val_loss: 0.4207 - val_acc: 0.8020\n",
      "Epoch 27/30\n",
      "100/100 [==============================] - 306s 3s/step - loss: 0.3741 - acc: 0.8340 - val_loss: 0.3967 - val_acc: 0.8270\n",
      "Epoch 28/30\n",
      "100/100 [==============================] - 250s 3s/step - loss: 0.3783 - acc: 0.8225 - val_loss: 0.4392 - val_acc: 0.7910\n",
      "Epoch 29/30\n",
      "100/100 [==============================] - 265s 3s/step - loss: 0.3718 - acc: 0.8345 - val_loss: 0.4179 - val_acc: 0.8070\n",
      "Epoch 30/30\n",
      "100/100 [==============================] - 242s 2s/step - loss: 0.3579 - acc: 0.8365 - val_loss: 0.5095 - val_acc: 0.7620\n"
     ]
    }
   ],
   "source": [
    "history = model.fit(\n",
    "  train_generator,\n",
    "  steps_per_epoch=100,\n",
    "  epochs=30,\n",
    "  validation_data=validation_generator,\n",
    "  validation_steps=50,\n",
    ")"
   ]
  },
  {
   "cell_type": "code",
   "execution_count": 55,
   "metadata": {},
   "outputs": [],
   "source": [
    "model.save(\"cats_and_dogs_model.h5\")"
   ]
  },
  {
   "cell_type": "code",
   "execution_count": 56,
   "metadata": {},
   "outputs": [],
   "source": [
    "acc = history.history['acc']\n",
    "val_acc = history.history[\"val_acc\"]\n",
    "\n",
    "loss = history.history[\"loss\"]\n",
    "val_loss = history.history[\"val_loss\"]"
   ]
  },
  {
   "cell_type": "code",
   "execution_count": 57,
   "metadata": {},
   "outputs": [
    {
     "data": {
      "text/plain": [
       "dict_keys(['loss', 'acc', 'val_loss', 'val_acc'])"
      ]
     },
     "execution_count": 57,
     "metadata": {},
     "output_type": "execute_result"
    }
   ],
   "source": [
    "history.history.keys()"
   ]
  },
  {
   "cell_type": "code",
   "execution_count": 58,
   "metadata": {},
   "outputs": [],
   "source": [
    "epochs = range(1, len(loss) + 1)"
   ]
  },
  {
   "cell_type": "code",
   "execution_count": 60,
   "metadata": {},
   "outputs": [
    {
     "data": {
      "text/plain": [
       "<matplotlib.legend.Legend at 0x14a3d3eea00>"
      ]
     },
     "execution_count": 60,
     "metadata": {},
     "output_type": "execute_result"
    },
    {
     "data": {
      "image/png": "[encoded data removed]",
      "text/plain": [
       "<Figure size 720x576 with 1 Axes>"
      ]
     },
     "metadata": {
      "needs_background": "light"
     },
     "output_type": "display_data"
    },
    {
     "data": {
      "image/png": "[encoded data removed]",
      "text/plain": [
       "<Figure size 720x576 with 1 Axes>"
      ]
     },
     "metadata": {
      "needs_background": "light"
     },
     "output_type": "display_data"
    }
   ],
   "source": [
    "plt.figure(figsize=(10, 8))\n",
    "plt.grid()\n",
    "plt.plot(epochs, loss, \"r\", label=\"Training Loss\")\n",
    "plt.plot(epochs, val_loss, \"ro\", label=\"Validation Loss\")\n",
    "plt.title(\"Training vs Validation Loss\")\n",
    "plt.legend()\n",
    "\n",
    "plt.figure(figsize=(10, 8))\n",
    "plt.grid()\n",
    "plt.plot(epochs, acc, \"b\", label=\"Training Accuracy\")\n",
    "plt.plot(epochs, val_acc, \"bo\", label=\"Validation Accuracy\")\n",
    "plt.title(\"Training vs Validation Loss\")\n",
    "plt.legend()"
   ]
  },
  {
   "cell_type": "code",
   "execution_count": null,
   "metadata": {},
   "outputs": [],
   "source": []
  }
 ],
 "metadata": {
  "kernelspec": {
   "display_name": "Python 3.9.12 ('base')",
   "language": "python",
   "name": "python3"
  },
  "language_info": {
   "codemirror_mode": {
    "name": "ipython",
    "version": 3
   },
   "file_extension": ".py",
   "mimetype": "text/x-python",
   "name": "python",
   "nbconvert_exporter": "python",
   "pygments_lexer": "ipython3",
   "version": "3.9.12"
  },
  "orig_nbformat": 4,
  "vscode": {
   "interpreter": {
    "hash": "263930470851f494f0ed2879c35b57985588df20f9e529b86e97dd5eb9ddc466"
   }
  }
 },
 "nbformat": 4,
 "nbformat_minor": 2
}
