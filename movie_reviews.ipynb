{
 "cells": [
  {
   "cell_type": "code",
   "execution_count": 21,
   "metadata": {},
   "outputs": [],
   "source": [
    "import numpy as np\n",
    "import pandas as pd\n",
    "import matplotlib.pyplot as plt\n",
    "import seaborn as sns\n",
    "\n",
    "from keras.datasets import imdb\n",
    "from keras import models\n",
    "from keras import layers"
   ]
  },
  {
   "cell_type": "code",
   "execution_count": 2,
   "metadata": {},
   "outputs": [],
   "source": [
    "(train_data, train_labels), (test_data, test_labels) = imdb.load_data(num_words=10000)"
   ]
  },
  {
   "cell_type": "code",
   "execution_count": 3,
   "metadata": {},
   "outputs": [
    {
     "data": {
      "text/plain": [
       "[1,\n",
       " 14,\n",
       " 22,\n",
       " 16,\n",
       " 43,\n",
       " 530,\n",
       " 973,\n",
       " 1622,\n",
       " 1385,\n",
       " 65,\n",
       " 458,\n",
       " 4468,\n",
       " 66,\n",
       " 3941,\n",
       " 4,\n",
       " 173,\n",
       " 36,\n",
       " 256,\n",
       " 5,\n",
       " 25,\n",
       " 100,\n",
       " 43,\n",
       " 838,\n",
       " 112,\n",
       " 50,\n",
       " 670,\n",
       " 2,\n",
       " 9,\n",
       " 35,\n",
       " 480,\n",
       " 284,\n",
       " 5,\n",
       " 150,\n",
       " 4,\n",
       " 172,\n",
       " 112,\n",
       " 167,\n",
       " 2,\n",
       " 336,\n",
       " 385,\n",
       " 39,\n",
       " 4,\n",
       " 172,\n",
       " 4536,\n",
       " 1111,\n",
       " 17,\n",
       " 546,\n",
       " 38,\n",
       " 13,\n",
       " 447,\n",
       " 4,\n",
       " 192,\n",
       " 50,\n",
       " 16,\n",
       " 6,\n",
       " 147,\n",
       " 2025,\n",
       " 19,\n",
       " 14,\n",
       " 22,\n",
       " 4,\n",
       " 1920,\n",
       " 4613,\n",
       " 469,\n",
       " 4,\n",
       " 22,\n",
       " 71,\n",
       " 87,\n",
       " 12,\n",
       " 16,\n",
       " 43,\n",
       " 530,\n",
       " 38,\n",
       " 76,\n",
       " 15,\n",
       " 13,\n",
       " 1247,\n",
       " 4,\n",
       " 22,\n",
       " 17,\n",
       " 515,\n",
       " 17,\n",
       " 12,\n",
       " 16,\n",
       " 626,\n",
       " 18,\n",
       " 2,\n",
       " 5,\n",
       " 62,\n",
       " 386,\n",
       " 12,\n",
       " 8,\n",
       " 316,\n",
       " 8,\n",
       " 106,\n",
       " 5,\n",
       " 4,\n",
       " 2223,\n",
       " 5244,\n",
       " 16,\n",
       " 480,\n",
       " 66,\n",
       " 3785,\n",
       " 33,\n",
       " 4,\n",
       " 130,\n",
       " 12,\n",
       " 16,\n",
       " 38,\n",
       " 619,\n",
       " 5,\n",
       " 25,\n",
       " 124,\n",
       " 51,\n",
       " 36,\n",
       " 135,\n",
       " 48,\n",
       " 25,\n",
       " 1415,\n",
       " 33,\n",
       " 6,\n",
       " 22,\n",
       " 12,\n",
       " 215,\n",
       " 28,\n",
       " 77,\n",
       " 52,\n",
       " 5,\n",
       " 14,\n",
       " 407,\n",
       " 16,\n",
       " 82,\n",
       " 2,\n",
       " 8,\n",
       " 4,\n",
       " 107,\n",
       " 117,\n",
       " 5952,\n",
       " 15,\n",
       " 256,\n",
       " 4,\n",
       " 2,\n",
       " 7,\n",
       " 3766,\n",
       " 5,\n",
       " 723,\n",
       " 36,\n",
       " 71,\n",
       " 43,\n",
       " 530,\n",
       " 476,\n",
       " 26,\n",
       " 400,\n",
       " 317,\n",
       " 46,\n",
       " 7,\n",
       " 4,\n",
       " 2,\n",
       " 1029,\n",
       " 13,\n",
       " 104,\n",
       " 88,\n",
       " 4,\n",
       " 381,\n",
       " 15,\n",
       " 297,\n",
       " 98,\n",
       " 32,\n",
       " 2071,\n",
       " 56,\n",
       " 26,\n",
       " 141,\n",
       " 6,\n",
       " 194,\n",
       " 7486,\n",
       " 18,\n",
       " 4,\n",
       " 226,\n",
       " 22,\n",
       " 21,\n",
       " 134,\n",
       " 476,\n",
       " 26,\n",
       " 480,\n",
       " 5,\n",
       " 144,\n",
       " 30,\n",
       " 5535,\n",
       " 18,\n",
       " 51,\n",
       " 36,\n",
       " 28,\n",
       " 224,\n",
       " 92,\n",
       " 25,\n",
       " 104,\n",
       " 4,\n",
       " 226,\n",
       " 65,\n",
       " 16,\n",
       " 38,\n",
       " 1334,\n",
       " 88,\n",
       " 12,\n",
       " 16,\n",
       " 283,\n",
       " 5,\n",
       " 16,\n",
       " 4472,\n",
       " 113,\n",
       " 103,\n",
       " 32,\n",
       " 15,\n",
       " 16,\n",
       " 5345,\n",
       " 19,\n",
       " 178,\n",
       " 32]"
      ]
     },
     "execution_count": 3,
     "metadata": {},
     "output_type": "execute_result"
    }
   ],
   "source": [
    "train_data[0]"
   ]
  },
  {
   "cell_type": "code",
   "execution_count": 4,
   "metadata": {},
   "outputs": [
    {
     "data": {
      "text/plain": [
       "1"
      ]
     },
     "execution_count": 4,
     "metadata": {},
     "output_type": "execute_result"
    }
   ],
   "source": [
    "train_labels[0]"
   ]
  },
  {
   "cell_type": "code",
   "execution_count": 5,
   "metadata": {},
   "outputs": [
    {
     "data": {
      "text/plain": [
       "9999"
      ]
     },
     "execution_count": 5,
     "metadata": {},
     "output_type": "execute_result"
    }
   ],
   "source": [
    "max([max(sequence) for sequence in train_data])"
   ]
  },
  {
   "cell_type": "code",
   "execution_count": 6,
   "metadata": {},
   "outputs": [],
   "source": [
    "word_index = imdb.get_word_index()\n",
    "reverse_word_index = dict(\n",
    "  [(value, key) for (key, value) in word_index.items()]\n",
    ")"
   ]
  },
  {
   "cell_type": "code",
   "execution_count": 7,
   "metadata": {},
   "outputs": [],
   "source": [
    "decoded_reveiw = \" \".join(\n",
    "  reverse_word_index.get(i - 3, \"|\") for i in train_data[0]\n",
    ")"
   ]
  },
  {
   "cell_type": "code",
   "execution_count": 8,
   "metadata": {},
   "outputs": [
    {
     "data": {
      "text/plain": [
       "\"| this film was just brilliant casting location scenery story direction everyone's really suited the part they played and you could just imagine being there robert | is an amazing actor and now the same being director | father came from the same scottish island as myself so i loved the fact there was a real connection with this film the witty remarks throughout the film were great it was just brilliant so much that i bought the film as soon as it was released for | and would recommend it to everyone to watch and the fly fishing was amazing really cried at the end it was so sad and you know what they say if you cry at a film it must have been good and this definitely was also | to the two little boy's that played the | of norman and paul they were just brilliant children are often left out of the | list i think because the stars that play them all grown up are such a big profile for the whole film but these children are amazing and should be praised for what they have done don't you think the whole story was so lovely because it was true and was someone's life after all that was shared with us all\""
      ]
     },
     "execution_count": 8,
     "metadata": {},
     "output_type": "execute_result"
    }
   ],
   "source": [
    "decoded_reveiw"
   ]
  },
  {
   "cell_type": "code",
   "execution_count": 9,
   "metadata": {},
   "outputs": [],
   "source": [
    "def vectorize_sequences(sequences, dimension=10000):\n",
    "  results = np.zeros((len(sequences), dimension))\n",
    "\n",
    "  for i, sequence in enumerate(sequences):\n",
    "    results[i, sequence] = 1\n",
    "  return results"
   ]
  },
  {
   "cell_type": "code",
   "execution_count": 10,
   "metadata": {},
   "outputs": [],
   "source": [
    "X_train = vectorize_sequences(train_data)\n",
    "X_test = vectorize_sequences(test_data)"
   ]
  },
  {
   "cell_type": "code",
   "execution_count": 11,
   "metadata": {},
   "outputs": [
    {
     "data": {
      "text/plain": [
       "10000"
      ]
     },
     "execution_count": 11,
     "metadata": {},
     "output_type": "execute_result"
    }
   ],
   "source": [
    "len(X_train[0])"
   ]
  },
  {
   "cell_type": "code",
   "execution_count": 12,
   "metadata": {},
   "outputs": [],
   "source": [
    "y_train = np.asarray(train_labels).astype('float32')\n",
    "y_test = np.asarray(test_labels).astype('float32')"
   ]
  },
  {
   "cell_type": "code",
   "execution_count": 13,
   "metadata": {},
   "outputs": [
    {
     "data": {
      "text/plain": [
       "array([0., 1., 1., ..., 0., 0., 0.])"
      ]
     },
     "execution_count": 13,
     "metadata": {},
     "output_type": "execute_result"
    }
   ],
   "source": [
    "X_train[0]\n"
   ]
  },
  {
   "cell_type": "code",
   "execution_count": 14,
   "metadata": {},
   "outputs": [
    {
     "data": {
      "text/plain": [
       "[1,\n",
       " 14,\n",
       " 22,\n",
       " 16,\n",
       " 43,\n",
       " 530,\n",
       " 973,\n",
       " 1622,\n",
       " 1385,\n",
       " 65,\n",
       " 458,\n",
       " 4468,\n",
       " 66,\n",
       " 3941,\n",
       " 4,\n",
       " 173,\n",
       " 36,\n",
       " 256,\n",
       " 5,\n",
       " 25,\n",
       " 100,\n",
       " 43,\n",
       " 838,\n",
       " 112,\n",
       " 50,\n",
       " 670,\n",
       " 2,\n",
       " 9,\n",
       " 35,\n",
       " 480,\n",
       " 284,\n",
       " 5,\n",
       " 150,\n",
       " 4,\n",
       " 172,\n",
       " 112,\n",
       " 167,\n",
       " 2,\n",
       " 336,\n",
       " 385,\n",
       " 39,\n",
       " 4,\n",
       " 172,\n",
       " 4536,\n",
       " 1111,\n",
       " 17,\n",
       " 546,\n",
       " 38,\n",
       " 13,\n",
       " 447,\n",
       " 4,\n",
       " 192,\n",
       " 50,\n",
       " 16,\n",
       " 6,\n",
       " 147,\n",
       " 2025,\n",
       " 19,\n",
       " 14,\n",
       " 22,\n",
       " 4,\n",
       " 1920,\n",
       " 4613,\n",
       " 469,\n",
       " 4,\n",
       " 22,\n",
       " 71,\n",
       " 87,\n",
       " 12,\n",
       " 16,\n",
       " 43,\n",
       " 530,\n",
       " 38,\n",
       " 76,\n",
       " 15,\n",
       " 13,\n",
       " 1247,\n",
       " 4,\n",
       " 22,\n",
       " 17,\n",
       " 515,\n",
       " 17,\n",
       " 12,\n",
       " 16,\n",
       " 626,\n",
       " 18,\n",
       " 2,\n",
       " 5,\n",
       " 62,\n",
       " 386,\n",
       " 12,\n",
       " 8,\n",
       " 316,\n",
       " 8,\n",
       " 106,\n",
       " 5,\n",
       " 4,\n",
       " 2223,\n",
       " 5244,\n",
       " 16,\n",
       " 480,\n",
       " 66,\n",
       " 3785,\n",
       " 33,\n",
       " 4,\n",
       " 130,\n",
       " 12,\n",
       " 16,\n",
       " 38,\n",
       " 619,\n",
       " 5,\n",
       " 25,\n",
       " 124,\n",
       " 51,\n",
       " 36,\n",
       " 135,\n",
       " 48,\n",
       " 25,\n",
       " 1415,\n",
       " 33,\n",
       " 6,\n",
       " 22,\n",
       " 12,\n",
       " 215,\n",
       " 28,\n",
       " 77,\n",
       " 52,\n",
       " 5,\n",
       " 14,\n",
       " 407,\n",
       " 16,\n",
       " 82,\n",
       " 2,\n",
       " 8,\n",
       " 4,\n",
       " 107,\n",
       " 117,\n",
       " 5952,\n",
       " 15,\n",
       " 256,\n",
       " 4,\n",
       " 2,\n",
       " 7,\n",
       " 3766,\n",
       " 5,\n",
       " 723,\n",
       " 36,\n",
       " 71,\n",
       " 43,\n",
       " 530,\n",
       " 476,\n",
       " 26,\n",
       " 400,\n",
       " 317,\n",
       " 46,\n",
       " 7,\n",
       " 4,\n",
       " 2,\n",
       " 1029,\n",
       " 13,\n",
       " 104,\n",
       " 88,\n",
       " 4,\n",
       " 381,\n",
       " 15,\n",
       " 297,\n",
       " 98,\n",
       " 32,\n",
       " 2071,\n",
       " 56,\n",
       " 26,\n",
       " 141,\n",
       " 6,\n",
       " 194,\n",
       " 7486,\n",
       " 18,\n",
       " 4,\n",
       " 226,\n",
       " 22,\n",
       " 21,\n",
       " 134,\n",
       " 476,\n",
       " 26,\n",
       " 480,\n",
       " 5,\n",
       " 144,\n",
       " 30,\n",
       " 5535,\n",
       " 18,\n",
       " 51,\n",
       " 36,\n",
       " 28,\n",
       " 224,\n",
       " 92,\n",
       " 25,\n",
       " 104,\n",
       " 4,\n",
       " 226,\n",
       " 65,\n",
       " 16,\n",
       " 38,\n",
       " 1334,\n",
       " 88,\n",
       " 12,\n",
       " 16,\n",
       " 283,\n",
       " 5,\n",
       " 16,\n",
       " 4472,\n",
       " 113,\n",
       " 103,\n",
       " 32,\n",
       " 15,\n",
       " 16,\n",
       " 5345,\n",
       " 19,\n",
       " 178,\n",
       " 32]"
      ]
     },
     "execution_count": 14,
     "metadata": {},
     "output_type": "execute_result"
    }
   ],
   "source": [
    "train_data[0]"
   ]
  },
  {
   "cell_type": "code",
   "execution_count": 57,
   "metadata": {},
   "outputs": [],
   "source": [
    "model_base = models.Sequential()\n",
    "model_base.add(layers.Dense(16, activation=\"relu\", input_shape=(10000,)))\n",
    "model_base.add(layers.Dense(16, activation=\"relu\"))\n",
    "model_base.add(layers.Dense(1, activation=\"sigmoid\"))"
   ]
  },
  {
   "cell_type": "code",
   "execution_count": 58,
   "metadata": {},
   "outputs": [],
   "source": [
    "model_base.compile(\n",
    "  optimizer=\"rmsprop\",\n",
    "  loss=\"binary_crossentropy\",\n",
    "  metrics=[\"accuracy\"]\n",
    ")"
   ]
  },
  {
   "cell_type": "code",
   "execution_count": 59,
   "metadata": {},
   "outputs": [
    {
     "name": "stdout",
     "output_type": "stream",
     "text": [
      "Epoch 1/20\n",
      "40/40 [==============================] - 3s 40ms/step - loss: 0.4829 - accuracy: 0.7958 - val_loss: 0.3621 - val_accuracy: 0.8606\n",
      "Epoch 2/20\n",
      "40/40 [==============================] - 1s 31ms/step - loss: 0.2710 - accuracy: 0.9061 - val_loss: 0.2895 - val_accuracy: 0.8890\n",
      "Epoch 3/20\n",
      "40/40 [==============================] - 1s 27ms/step - loss: 0.2041 - accuracy: 0.9291 - val_loss: 0.2767 - val_accuracy: 0.8922\n",
      "Epoch 4/20\n",
      "40/40 [==============================] - 1s 26ms/step - loss: 0.1643 - accuracy: 0.9427 - val_loss: 0.3008 - val_accuracy: 0.8840\n",
      "Epoch 5/20\n",
      "40/40 [==============================] - 1s 26ms/step - loss: 0.1405 - accuracy: 0.9512 - val_loss: 0.3324 - val_accuracy: 0.8768\n",
      "Epoch 6/20\n",
      "40/40 [==============================] - 1s 25ms/step - loss: 0.1217 - accuracy: 0.9587 - val_loss: 0.3125 - val_accuracy: 0.8874\n",
      "Epoch 7/20\n",
      "40/40 [==============================] - 1s 24ms/step - loss: 0.1049 - accuracy: 0.9658 - val_loss: 0.3296 - val_accuracy: 0.8880\n",
      "Epoch 8/20\n",
      "40/40 [==============================] - 1s 29ms/step - loss: 0.0899 - accuracy: 0.9711 - val_loss: 0.3747 - val_accuracy: 0.8798\n",
      "Epoch 9/20\n",
      "40/40 [==============================] - 1s 24ms/step - loss: 0.0768 - accuracy: 0.9753 - val_loss: 0.4147 - val_accuracy: 0.8728\n",
      "Epoch 10/20\n",
      "40/40 [==============================] - 1s 23ms/step - loss: 0.0640 - accuracy: 0.9811 - val_loss: 0.4463 - val_accuracy: 0.8698\n",
      "Epoch 11/20\n",
      "40/40 [==============================] - 1s 37ms/step - loss: 0.0582 - accuracy: 0.9821 - val_loss: 0.4891 - val_accuracy: 0.8682\n",
      "Epoch 12/20\n",
      "40/40 [==============================] - 1s 25ms/step - loss: 0.0475 - accuracy: 0.9865 - val_loss: 0.4955 - val_accuracy: 0.8698\n",
      "Epoch 13/20\n",
      "40/40 [==============================] - 1s 25ms/step - loss: 0.0420 - accuracy: 0.9883 - val_loss: 0.5105 - val_accuracy: 0.8692\n",
      "Epoch 14/20\n",
      "40/40 [==============================] - 1s 25ms/step - loss: 0.0349 - accuracy: 0.9912 - val_loss: 0.5855 - val_accuracy: 0.8676\n",
      "Epoch 15/20\n",
      "40/40 [==============================] - 1s 27ms/step - loss: 0.0308 - accuracy: 0.9920 - val_loss: 0.5734 - val_accuracy: 0.8708\n",
      "Epoch 16/20\n",
      "40/40 [==============================] - 1s 25ms/step - loss: 0.0255 - accuracy: 0.9936 - val_loss: 0.6107 - val_accuracy: 0.8666\n",
      "Epoch 17/20\n",
      "40/40 [==============================] - 1s 24ms/step - loss: 0.0213 - accuracy: 0.9949 - val_loss: 0.6588 - val_accuracy: 0.8664\n",
      "Epoch 18/20\n",
      "40/40 [==============================] - 1s 27ms/step - loss: 0.0193 - accuracy: 0.9952 - val_loss: 0.6851 - val_accuracy: 0.8658\n",
      "Epoch 19/20\n",
      "40/40 [==============================] - 1s 29ms/step - loss: 0.0163 - accuracy: 0.9965 - val_loss: 0.7154 - val_accuracy: 0.8650\n",
      "Epoch 20/20\n",
      "40/40 [==============================] - 1s 25ms/step - loss: 0.0123 - accuracy: 0.9977 - val_loss: 0.7653 - val_accuracy: 0.8646\n"
     ]
    }
   ],
   "source": [
    "history = model_base.fit(\n",
    "  X_train, y_train, epochs=20, batch_size=512,\n",
    "  validation_split=0.2\n",
    ")"
   ]
  },
  {
   "cell_type": "code",
   "execution_count": 60,
   "metadata": {},
   "outputs": [],
   "source": [
    "history_dict = history.history"
   ]
  },
  {
   "cell_type": "code",
   "execution_count": 61,
   "metadata": {},
   "outputs": [
    {
     "data": {
      "text/plain": [
       "dict_keys(['loss', 'accuracy', 'val_loss', 'val_accuracy'])"
      ]
     },
     "execution_count": 61,
     "metadata": {},
     "output_type": "execute_result"
    }
   ],
   "source": [
    "history_dict.keys()"
   ]
  },
  {
   "cell_type": "code",
   "execution_count": 62,
   "metadata": {},
   "outputs": [],
   "source": [
    "loss = history_dict[\"loss\"]\n",
    "val_loss = history_dict[\"val_loss\"]"
   ]
  },
  {
   "cell_type": "code",
   "execution_count": 65,
   "metadata": {},
   "outputs": [],
   "source": [
    "epochs = range(1, 20 + 1)"
   ]
  },
  {
   "cell_type": "code",
   "execution_count": 66,
   "metadata": {},
   "outputs": [
    {
     "data": {
      "text/plain": [
       "<matplotlib.legend.Legend at 0x1f42d748190>"
      ]
     },
     "execution_count": 66,
     "metadata": {},
     "output_type": "execute_result"
    },
    {
     "data": {
      "image/png": "[encoded data removed]",
      "text/plain": [
       "<Figure size 432x288 with 1 Axes>"
      ]
     },
     "metadata": {},
     "output_type": "display_data"
    }
   ],
   "source": [
    "plt.plot(epochs, loss, 'bo', label=\"Training Loss\")\n",
    "plt.plot(epochs, val_loss, 'b', label=\"Val Loss\")\n",
    "plt.title('Training vs. Validation Loss')\n",
    "plt.xlabel('Epochs')\n",
    "plt.ylabel(\"Loss\")\n",
    "plt.legend()"
   ]
  },
  {
   "cell_type": "code",
   "execution_count": 67,
   "metadata": {},
   "outputs": [],
   "source": [
    "acc = history_dict[\"accuracy\"]\n",
    "val_acc = history_dict[\"val_accuracy\"]\n"
   ]
  },
  {
   "cell_type": "code",
   "execution_count": 68,
   "metadata": {},
   "outputs": [
    {
     "data": {
      "text/plain": [
       "<matplotlib.legend.Legend at 0x1f432564fd0>"
      ]
     },
     "execution_count": 68,
     "metadata": {},
     "output_type": "execute_result"
    },
    {
     "data": {
      "image/png": "[encoded data removed]",
      "text/plain": [
       "<Figure size 432x288 with 1 Axes>"
      ]
     },
     "metadata": {},
     "output_type": "display_data"
    }
   ],
   "source": [
    "plt.plot(epochs, acc, 'bo', label=\"Training Accuracy\")\n",
    "plt.plot(epochs, val_acc, 'b', label=\"Val Accuracy\")\n",
    "plt.title('Training vs. Validation Accuracy')\n",
    "plt.xlabel('Epochs')\n",
    "plt.ylabel(\"Accuracy\")\n",
    "plt.legend()"
   ]
  },
  {
   "cell_type": "code",
   "execution_count": 74,
   "metadata": {},
   "outputs": [
    {
     "name": "stdout",
     "output_type": "stream",
     "text": [
      "Epoch 1/20\n",
      "40/40 [==============================] - 5s 70ms/step - loss: 0.1511 - accuracy: 0.7788 - val_loss: 0.0947 - val_accuracy: 0.8790\n",
      "Epoch 2/20\n",
      "40/40 [==============================] - 2s 57ms/step - loss: 0.0737 - accuracy: 0.9059 - val_loss: 0.0815 - val_accuracy: 0.8920\n",
      "Epoch 3/20\n",
      "40/40 [==============================] - 2s 50ms/step - loss: 0.0553 - accuracy: 0.9291 - val_loss: 0.0807 - val_accuracy: 0.8926\n",
      "Epoch 4/20\n",
      "40/40 [==============================] - 2s 55ms/step - loss: 0.0413 - accuracy: 0.9496 - val_loss: 0.0863 - val_accuracy: 0.8854\n",
      "Epoch 5/20\n",
      "40/40 [==============================] - 2s 50ms/step - loss: 0.0338 - accuracy: 0.9597 - val_loss: 0.0892 - val_accuracy: 0.8830\n",
      "Epoch 6/20\n",
      "40/40 [==============================] - 2s 54ms/step - loss: 0.0231 - accuracy: 0.9736 - val_loss: 0.1001 - val_accuracy: 0.8724\n",
      "Epoch 7/20\n",
      "40/40 [==============================] - 2s 53ms/step - loss: 0.0218 - accuracy: 0.9735 - val_loss: 0.0915 - val_accuracy: 0.8838\n",
      "Epoch 8/20\n",
      "40/40 [==============================] - 3s 66ms/step - loss: 0.0131 - accuracy: 0.9854 - val_loss: 0.0960 - val_accuracy: 0.8770\n",
      "Epoch 9/20\n",
      "40/40 [==============================] - 2s 51ms/step - loss: 0.0111 - accuracy: 0.9882 - val_loss: 0.0959 - val_accuracy: 0.8782\n",
      "Epoch 10/20\n",
      "40/40 [==============================] - 2s 51ms/step - loss: 0.0104 - accuracy: 0.9882 - val_loss: 0.0978 - val_accuracy: 0.8792\n",
      "Epoch 11/20\n",
      "40/40 [==============================] - 2s 54ms/step - loss: 0.0096 - accuracy: 0.9890 - val_loss: 0.0978 - val_accuracy: 0.8790\n",
      "Epoch 12/20\n",
      "40/40 [==============================] - 2s 53ms/step - loss: 0.0036 - accuracy: 0.9965 - val_loss: 0.1000 - val_accuracy: 0.8782\n",
      "Epoch 13/20\n",
      "40/40 [==============================] - 2s 54ms/step - loss: 0.0088 - accuracy: 0.9895 - val_loss: 0.1015 - val_accuracy: 0.8756\n",
      "Epoch 14/20\n",
      "40/40 [==============================] - 2s 53ms/step - loss: 0.0027 - accuracy: 0.9973 - val_loss: 0.1034 - val_accuracy: 0.8762\n",
      "Epoch 15/20\n",
      "40/40 [==============================] - 2s 54ms/step - loss: 0.0082 - accuracy: 0.9899 - val_loss: 0.1036 - val_accuracy: 0.8730\n",
      "Epoch 16/20\n",
      "40/40 [==============================] - 2s 53ms/step - loss: 0.0021 - accuracy: 0.9979 - val_loss: 0.1049 - val_accuracy: 0.8730\n",
      "Epoch 17/20\n",
      "40/40 [==============================] - 2s 57ms/step - loss: 0.0071 - accuracy: 0.9913 - val_loss: 0.1045 - val_accuracy: 0.8740\n",
      "Epoch 18/20\n",
      "40/40 [==============================] - 2s 52ms/step - loss: 0.0018 - accuracy: 0.9983 - val_loss: 0.1045 - val_accuracy: 0.8746\n",
      "Epoch 19/20\n",
      "40/40 [==============================] - 2s 54ms/step - loss: 0.0017 - accuracy: 0.9984 - val_loss: 0.1060 - val_accuracy: 0.8752\n",
      "Epoch 20/20\n",
      "40/40 [==============================] - 2s 53ms/step - loss: 0.0073 - accuracy: 0.9915 - val_loss: 0.1041 - val_accuracy: 0.8770\n"
     ]
    }
   ],
   "source": [
    "model_mse = models.Sequential()\n",
    "model_mse.add(layers.Dense(64, activation=\"relu\", input_shape=(10000,)))\n",
    "model_mse.add(layers.Dense(32, activation=\"relu\"))\n",
    "model_mse.add(layers.Dense(16, activation=\"relu\"))\n",
    "model_mse.add(layers.Dense(1, activation=\"sigmoid\"))\n",
    "\n",
    "model_mse.compile(\n",
    "    optimizer=\"rmsprop\",\n",
    "    loss=\"mse\",\n",
    "    metrics=[\"accuracy\"]\n",
    ")\n",
    "\n",
    "history = model_mse.fit(\n",
    "  X_train, y_train, epochs=20, batch_size=512,\n",
    "  validation_split=0.2\n",
    ")\n",
    "\n",
    "history_dict = history.history"
   ]
  },
  {
   "cell_type": "code",
   "execution_count": 75,
   "metadata": {},
   "outputs": [
    {
     "data": {
      "text/plain": [
       "<matplotlib.legend.Legend at 0x1f4326d1610>"
      ]
     },
     "execution_count": 75,
     "metadata": {},
     "output_type": "execute_result"
    },
    {
     "data": {
      "image/png": "[encoded data removed]",
      "text/plain": [
       "<Figure size 432x288 with 1 Axes>"
      ]
     },
     "metadata": {},
     "output_type": "display_data"
    }
   ],
   "source": [
    "loss = history_dict[\"loss\"]\n",
    "val_loss = history_dict[\"val_loss\"]\n",
    "\n",
    "epochs = range(1, 20 + 1)\n",
    "\n",
    "plt.plot(epochs, loss, 'bo', label=\"Training Loss\")\n",
    "plt.plot(epochs, val_loss, 'b', label=\"Val Loss\")\n",
    "plt.title('Training vs. Validation Loss')\n",
    "plt.xlabel('Epochs')\n",
    "plt.ylabel(\"Loss\")\n",
    "plt.legend()"
   ]
  },
  {
   "cell_type": "code",
   "execution_count": 76,
   "metadata": {},
   "outputs": [
    {
     "data": {
      "text/plain": [
       "<matplotlib.legend.Legend at 0x1f432c3a3d0>"
      ]
     },
     "execution_count": 76,
     "metadata": {},
     "output_type": "execute_result"
    },
    {
     "data": {
      "image/png": "[encoded data removed]",
      "text/plain": [
       "<Figure size 432x288 with 1 Axes>"
      ]
     },
     "metadata": {},
     "output_type": "display_data"
    }
   ],
   "source": [
    "acc = history_dict[\"accuracy\"]\n",
    "val_acc = history_dict[\"val_accuracy\"]\n",
    "\n",
    "plt.plot(epochs, acc, 'bo', label=\"Training Accuracy\")\n",
    "plt.plot(epochs, val_acc, 'b', label=\"Val Accuracy\")\n",
    "plt.title('Training vs. Validation Accuracy')\n",
    "plt.xlabel('Epochs')\n",
    "plt.ylabel(\"Accuracy\")\n",
    "plt.legend()\n"
   ]
  },
  {
   "cell_type": "code",
   "execution_count": 77,
   "metadata": {},
   "outputs": [
    {
     "name": "stdout",
     "output_type": "stream",
     "text": [
      "Epoch 1/20\n",
      "40/40 [==============================] - 7s 97ms/step - loss: 0.1405 - accuracy: 0.7967 - val_loss: 0.0989 - val_accuracy: 0.8616\n",
      "Epoch 2/20\n",
      "40/40 [==============================] - 2s 51ms/step - loss: 0.0685 - accuracy: 0.9089 - val_loss: 0.0988 - val_accuracy: 0.8658\n",
      "Epoch 3/20\n",
      "40/40 [==============================] - 3s 65ms/step - loss: 0.0544 - accuracy: 0.9283 - val_loss: 0.1081 - val_accuracy: 0.8592\n",
      "Epoch 4/20\n",
      "40/40 [==============================] - 3s 64ms/step - loss: 0.0454 - accuracy: 0.9416 - val_loss: 0.1061 - val_accuracy: 0.8658\n",
      "Epoch 5/20\n",
      "40/40 [==============================] - 3s 70ms/step - loss: 0.0358 - accuracy: 0.9552 - val_loss: 0.0926 - val_accuracy: 0.8806\n",
      "Epoch 6/20\n",
      "40/40 [==============================] - 2s 58ms/step - loss: 0.0325 - accuracy: 0.9592 - val_loss: 0.0980 - val_accuracy: 0.8758\n",
      "Epoch 7/20\n",
      "40/40 [==============================] - 2s 58ms/step - loss: 0.0272 - accuracy: 0.9671 - val_loss: 0.1041 - val_accuracy: 0.8750\n",
      "Epoch 8/20\n",
      "40/40 [==============================] - 2s 61ms/step - loss: 0.0227 - accuracy: 0.9736 - val_loss: 0.1144 - val_accuracy: 0.8642\n",
      "Epoch 9/20\n",
      "40/40 [==============================] - 2s 56ms/step - loss: 0.0222 - accuracy: 0.9736 - val_loss: 0.1054 - val_accuracy: 0.8748\n",
      "Epoch 10/20\n",
      "40/40 [==============================] - 2s 55ms/step - loss: 0.0182 - accuracy: 0.9796 - val_loss: 0.1070 - val_accuracy: 0.8734\n",
      "Epoch 11/20\n",
      "40/40 [==============================] - 2s 53ms/step - loss: 0.0202 - accuracy: 0.9765 - val_loss: 0.1077 - val_accuracy: 0.8746\n",
      "Epoch 12/20\n",
      "40/40 [==============================] - 2s 52ms/step - loss: 0.0151 - accuracy: 0.9828 - val_loss: 0.1111 - val_accuracy: 0.8720\n",
      "Epoch 13/20\n",
      "40/40 [==============================] - 2s 57ms/step - loss: 0.0144 - accuracy: 0.9840 - val_loss: 0.1110 - val_accuracy: 0.8750\n",
      "Epoch 14/20\n",
      "40/40 [==============================] - 2s 55ms/step - loss: 0.0148 - accuracy: 0.9839 - val_loss: 0.1124 - val_accuracy: 0.8734\n",
      "Epoch 15/20\n",
      "40/40 [==============================] - 2s 52ms/step - loss: 0.0132 - accuracy: 0.9852 - val_loss: 0.1149 - val_accuracy: 0.8704\n",
      "Epoch 16/20\n",
      "40/40 [==============================] - 2s 57ms/step - loss: 0.0128 - accuracy: 0.9858 - val_loss: 0.1145 - val_accuracy: 0.8738\n",
      "Epoch 17/20\n",
      "40/40 [==============================] - 2s 53ms/step - loss: 0.0130 - accuracy: 0.9861 - val_loss: 0.1151 - val_accuracy: 0.8736\n",
      "Epoch 18/20\n",
      "40/40 [==============================] - 2s 57ms/step - loss: 0.0117 - accuracy: 0.9872 - val_loss: 0.1207 - val_accuracy: 0.8674\n",
      "Epoch 19/20\n",
      "40/40 [==============================] - 2s 51ms/step - loss: 0.0123 - accuracy: 0.9863 - val_loss: 0.1145 - val_accuracy: 0.8744\n",
      "Epoch 20/20\n",
      "40/40 [==============================] - 2s 56ms/step - loss: 0.0113 - accuracy: 0.9876 - val_loss: 0.1141 - val_accuracy: 0.8754\n"
     ]
    }
   ],
   "source": [
    "model_tanh = models.Sequential()\n",
    "model_tanh.add(layers.Dense(64, activation=\"tanh\", input_shape=(10000,)))\n",
    "model_tanh.add(layers.Dense(32, activation=\"tanh\"))\n",
    "model_tanh.add(layers.Dense(16, activation=\"tanh\"))\n",
    "model_tanh.add(layers.Dense(1, activation=\"sigmoid\"))\n",
    "\n",
    "model_tanh.compile(\n",
    "    optimizer=\"rmsprop\",\n",
    "    loss=\"mse\",\n",
    "    metrics=[\"accuracy\"]\n",
    ")\n",
    "\n",
    "history = model_tanh.fit(\n",
    "    X_train, y_train, epochs=20, batch_size=512,\n",
    "    validation_split=0.2\n",
    ")\n",
    "\n",
    "history_dict = history.history\n"
   ]
  },
  {
   "cell_type": "code",
   "execution_count": 78,
   "metadata": {},
   "outputs": [
    {
     "data": {
      "text/plain": [
       "<matplotlib.legend.Legend at 0x1f432d108b0>"
      ]
     },
     "execution_count": 78,
     "metadata": {},
     "output_type": "execute_result"
    },
    {
     "data": {
      "image/png": "[encoded data removed]",
      "text/plain": [
       "<Figure size 432x288 with 1 Axes>"
      ]
     },
     "metadata": {},
     "output_type": "display_data"
    }
   ],
   "source": [
    "loss = history_dict[\"loss\"]\n",
    "val_loss = history_dict[\"val_loss\"]\n",
    "\n",
    "epochs = range(1, 20 + 1)\n",
    "\n",
    "plt.plot(epochs, loss, 'bo', label=\"Training Loss\")\n",
    "plt.plot(epochs, val_loss, 'b', label=\"Val Loss\")\n",
    "plt.title('Training vs. Validation Loss')\n",
    "plt.xlabel('Epochs')\n",
    "plt.ylabel(\"Loss\")\n",
    "plt.legend()"
   ]
  },
  {
   "cell_type": "code",
   "execution_count": 79,
   "metadata": {},
   "outputs": [
    {
     "data": {
      "text/plain": [
       "<matplotlib.legend.Legend at 0x1f432cf7610>"
      ]
     },
     "execution_count": 79,
     "metadata": {},
     "output_type": "execute_result"
    },
    {
     "data": {
      "image/png": "[encoded data removed]",
      "text/plain": [
       "<Figure size 432x288 with 1 Axes>"
      ]
     },
     "metadata": {},
     "output_type": "display_data"
    }
   ],
   "source": [
    "acc = history_dict[\"accuracy\"]\n",
    "val_acc = history_dict[\"val_accuracy\"]\n",
    "\n",
    "plt.plot(epochs, acc, 'bo', label=\"Training Accuracy\")\n",
    "plt.plot(epochs, val_acc, 'b', label=\"Val Accuracy\")\n",
    "plt.title('Training vs. Validation Accuracy')\n",
    "plt.xlabel('Epochs')\n",
    "plt.ylabel(\"Accuracy\")\n",
    "plt.legend()\n"
   ]
  },
  {
   "cell_type": "code",
   "execution_count": null,
   "metadata": {},
   "outputs": [],
   "source": []
  }
 ],
 "metadata": {
  "kernelspec": {
   "display_name": "Python 3.9.7 ('base')",
   "language": "python",
   "name": "python3"
  },
  "language_info": {
   "codemirror_mode": {
    "name": "ipython",
    "version": 3
   },
   "file_extension": ".py",
   "mimetype": "text/x-python",
   "name": "python",
   "nbconvert_exporter": "python",
   "pygments_lexer": "ipython3",
   "version": "3.9.7"
  },
  "orig_nbformat": 4,
  "vscode": {
   "interpreter": {
    "hash": "cc2f14897ac7a0b3c9a172ad801bb417855057f30cb4b5ba4189b2698c688ddc"
   }
  }
 },
 "nbformat": 4,
 "nbformat_minor": 2
}
