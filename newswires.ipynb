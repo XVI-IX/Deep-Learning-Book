{
 "cells": [
  {
   "cell_type": "code",
   "execution_count": 27,
   "metadata": {},
   "outputs": [],
   "source": [
    "import copy\n",
    "\n",
    "import numpy as np\n",
    "import pandas as pd\n",
    "import matplotlib.pyplot as plt\n",
    "import seaborn as sns\n",
    "\n",
    "from keras.datasets import reuters\n",
    "from tensorflow.keras.utils import to_categorical\n",
    "from keras.models import Sequential\n",
    "from keras import models\n",
    "from keras import layers\n",
    "# from keras.layers import Dense"
   ]
  },
  {
   "cell_type": "code",
   "execution_count": 2,
   "metadata": {},
   "outputs": [],
   "source": [
    "(train_data, train_labels), (test_data, test_labels) = reuters.load_data(num_words=10000)"
   ]
  },
  {
   "cell_type": "code",
   "execution_count": 3,
   "metadata": {},
   "outputs": [
    {
     "data": {
      "text/plain": [
       "8982"
      ]
     },
     "execution_count": 3,
     "metadata": {},
     "output_type": "execute_result"
    }
   ],
   "source": [
    "len(train_data)"
   ]
  },
  {
   "cell_type": "code",
   "execution_count": 4,
   "metadata": {},
   "outputs": [
    {
     "data": {
      "text/plain": [
       "2246"
      ]
     },
     "execution_count": 4,
     "metadata": {},
     "output_type": "execute_result"
    }
   ],
   "source": [
    "len(test_data)"
   ]
  },
  {
   "cell_type": "code",
   "execution_count": 5,
   "metadata": {},
   "outputs": [
    {
     "data": {
      "text/plain": [
       "[1, 2, 2, 8, 43, 10, 447, 5, 25, 207]"
      ]
     },
     "execution_count": 5,
     "metadata": {},
     "output_type": "execute_result"
    }
   ],
   "source": [
    "train_data[0][:10]"
   ]
  },
  {
   "cell_type": "code",
   "execution_count": 6,
   "metadata": {},
   "outputs": [
    {
     "name": "stdout",
     "output_type": "stream",
     "text": [
      "Downloading data from https://storage.googleapis.com/tensorflow/tf-keras-datasets/reuters_word_index.json\n",
      "557056/550378 [==============================] - 1s 1us/step\n",
      "565248/550378 [==============================] - 1s 1us/step\n"
     ]
    }
   ],
   "source": [
    "word_index = reuters.get_word_index()\n",
    "\n",
    "reverse_word_index = dict(\n",
    "  (value, key) for (key, value) in word_index.items()\n",
    ")\n",
    "\n",
    "decoded_words = ' '.join([reverse_word_index.get(i - 3, \"|\") for i in reverse_word_index])"
   ]
  },
  {
   "cell_type": "code",
   "execution_count": 7,
   "metadata": {},
   "outputs": [],
   "source": [
    "def vectorize_sequences(sequences, dimension=10000):\n",
    "  results = np.zeros((len(sequences), dimension))\n",
    "\n",
    "  for i, sequence in enumerate(sequences):\n",
    "    results[i, sequence] = 1\n",
    "\n",
    "  return results"
   ]
  },
  {
   "cell_type": "code",
   "execution_count": 8,
   "metadata": {},
   "outputs": [],
   "source": [
    "X_train = vectorize_sequences(train_data)\n",
    "X_test = vectorize_sequences(test_data)"
   ]
  },
  {
   "cell_type": "code",
   "execution_count": 11,
   "metadata": {},
   "outputs": [],
   "source": [
    "y_train = to_categorical(train_labels)\n",
    "y_test = to_categorical(test_labels)"
   ]
  },
  {
   "cell_type": "code",
   "execution_count": 16,
   "metadata": {},
   "outputs": [],
   "source": [
    "model = Sequential()\n",
    "model.add(layers.Dense(64, activation=\"relu\", input_shape=(10000,)))\n",
    "model.add(layers.Dense(64, activation='relu'))\n",
    "model.add(layers.Dense(46, activation=\"softmax\"))"
   ]
  },
  {
   "cell_type": "code",
   "execution_count": 17,
   "metadata": {},
   "outputs": [],
   "source": [
    "model.compile(\n",
    "  optimizer=\"rmsprop\",\n",
    "  loss=\"categorical_crossentropy\",\n",
    "  metrics=[\"accuracy\"]\n",
    ")"
   ]
  },
  {
   "cell_type": "code",
   "execution_count": 18,
   "metadata": {},
   "outputs": [
    {
     "name": "stdout",
     "output_type": "stream",
     "text": [
      "Epoch 1/20\n",
      "15/15 [==============================] - 7s 156ms/step - loss: 2.5325 - accuracy: 0.5019 - val_loss: 1.7292 - val_accuracy: 0.6338\n",
      "Epoch 2/20\n",
      "15/15 [==============================] - 1s 82ms/step - loss: 1.4051 - accuracy: 0.7013 - val_loss: 1.3546 - val_accuracy: 0.7078\n",
      "Epoch 3/20\n",
      "15/15 [==============================] - 1s 81ms/step - loss: 1.0660 - accuracy: 0.7704 - val_loss: 1.2035 - val_accuracy: 0.7262\n",
      "Epoch 4/20\n",
      "15/15 [==============================] - 1s 73ms/step - loss: 0.8505 - accuracy: 0.8203 - val_loss: 1.1029 - val_accuracy: 0.7524\n",
      "Epoch 5/20\n",
      "15/15 [==============================] - 1s 68ms/step - loss: 0.6806 - accuracy: 0.8554 - val_loss: 1.0331 - val_accuracy: 0.7741\n",
      "Epoch 6/20\n",
      "15/15 [==============================] - 1s 55ms/step - loss: 0.5482 - accuracy: 0.8856 - val_loss: 0.9725 - val_accuracy: 0.7896\n",
      "Epoch 7/20\n",
      "15/15 [==============================] - 1s 53ms/step - loss: 0.4442 - accuracy: 0.9069 - val_loss: 0.9572 - val_accuracy: 0.7902\n",
      "Epoch 8/20\n",
      "15/15 [==============================] - 1s 52ms/step - loss: 0.3613 - accuracy: 0.9255 - val_loss: 1.0100 - val_accuracy: 0.7607\n",
      "Epoch 9/20\n",
      "15/15 [==============================] - 1s 55ms/step - loss: 0.3035 - accuracy: 0.9360 - val_loss: 0.9994 - val_accuracy: 0.7807\n",
      "Epoch 10/20\n",
      "15/15 [==============================] - 1s 80ms/step - loss: 0.2536 - accuracy: 0.9464 - val_loss: 0.9739 - val_accuracy: 0.7969\n",
      "Epoch 11/20\n",
      "15/15 [==============================] - 1s 53ms/step - loss: 0.2140 - accuracy: 0.9535 - val_loss: 0.9684 - val_accuracy: 0.7980\n",
      "Epoch 12/20\n",
      "15/15 [==============================] - 1s 57ms/step - loss: 0.1879 - accuracy: 0.9570 - val_loss: 0.9736 - val_accuracy: 0.8069\n",
      "Epoch 13/20\n",
      "15/15 [==============================] - 1s 40ms/step - loss: 0.1647 - accuracy: 0.9581 - val_loss: 1.0050 - val_accuracy: 0.7997\n",
      "Epoch 14/20\n",
      "15/15 [==============================] - 1s 72ms/step - loss: 0.1449 - accuracy: 0.9588 - val_loss: 1.0763 - val_accuracy: 0.7763\n",
      "Epoch 15/20\n",
      "15/15 [==============================] - 1s 70ms/step - loss: 0.1353 - accuracy: 0.9603 - val_loss: 1.0875 - val_accuracy: 0.7718\n",
      "Epoch 16/20\n",
      "15/15 [==============================] - 1s 65ms/step - loss: 0.1263 - accuracy: 0.9612 - val_loss: 1.0789 - val_accuracy: 0.7941\n",
      "Epoch 17/20\n",
      "15/15 [==============================] - 1s 58ms/step - loss: 0.1175 - accuracy: 0.9637 - val_loss: 1.1805 - val_accuracy: 0.7858\n",
      "Epoch 18/20\n",
      "15/15 [==============================] - 1s 67ms/step - loss: 0.1120 - accuracy: 0.9617 - val_loss: 1.1164 - val_accuracy: 0.8030\n",
      "Epoch 19/20\n",
      "15/15 [==============================] - 1s 70ms/step - loss: 0.1057 - accuracy: 0.9624 - val_loss: 1.1135 - val_accuracy: 0.7952\n",
      "Epoch 20/20\n",
      "15/15 [==============================] - 1s 65ms/step - loss: 0.1017 - accuracy: 0.9616 - val_loss: 1.1359 - val_accuracy: 0.7902\n"
     ]
    }
   ],
   "source": [
    "history = model.fit(\n",
    "  X_train, y_train, epochs=20,\n",
    "  batch_size=512, validation_split=0.2\n",
    ")"
   ]
  },
  {
   "cell_type": "code",
   "execution_count": 19,
   "metadata": {},
   "outputs": [],
   "source": [
    "history_dict = history.history"
   ]
  },
  {
   "cell_type": "code",
   "execution_count": 20,
   "metadata": {},
   "outputs": [
    {
     "data": {
      "text/plain": [
       "dict_keys(['loss', 'accuracy', 'val_loss', 'val_accuracy'])"
      ]
     },
     "execution_count": 20,
     "metadata": {},
     "output_type": "execute_result"
    }
   ],
   "source": [
    "history_dict.keys()"
   ]
  },
  {
   "cell_type": "code",
   "execution_count": 21,
   "metadata": {},
   "outputs": [
    {
     "data": {
      "text/plain": [
       "<matplotlib.legend.Legend at 0x162b91e9f40>"
      ]
     },
     "execution_count": 21,
     "metadata": {},
     "output_type": "execute_result"
    },
    {
     "data": {
      "image/png": "[encoded data removed]",
      "text/plain": [
       "<Figure size 432x288 with 1 Axes>"
      ]
     },
     "metadata": {},
     "output_type": "display_data"
    }
   ],
   "source": [
    "loss = history_dict['loss']\n",
    "val_loss = history_dict['val_loss']\n",
    "\n",
    "epochs = range(1, len(loss) + 1)\n",
    "\n",
    "plt.plot(epochs, loss, 'bo', label=\"Training Loss\")\n",
    "plt.plot(epochs, val_loss, 'r', label=\"Validation Loss\" )\n",
    "plt.title(\"Training vs. Validation Loss\")\n",
    "plt.xlabel(\"Epochs\")\n",
    "plt.ylabel(\"Loss\")\n",
    "plt.legend()"
   ]
  },
  {
   "cell_type": "code",
   "execution_count": 23,
   "metadata": {},
   "outputs": [
    {
     "data": {
      "text/plain": [
       "<matplotlib.legend.Legend at 0x162b94cb9d0>"
      ]
     },
     "execution_count": 23,
     "metadata": {},
     "output_type": "execute_result"
    },
    {
     "data": {
      "image/png": "[encoded data removed]",
      "text/plain": [
       "<Figure size 432x288 with 1 Axes>"
      ]
     },
     "metadata": {},
     "output_type": "display_data"
    }
   ],
   "source": [
    "acc = history_dict['accuracy']\n",
    "val_acc = history_dict['val_accuracy']\n",
    "\n",
    "epochs = range(1, len(loss) + 1)\n",
    "\n",
    "plt.plot(epochs, acc, 'bo', label=\"Training Accuracy\")\n",
    "plt.plot(epochs, val_acc, 'r', label=\"Validation Accuracy\" )\n",
    "plt.title(\"Training vs. Validation Accuracy\")\n",
    "plt.xlabel(\"Epochs\")\n",
    "plt.ylabel(\"Accuracy\")\n",
    "plt.legend()"
   ]
  },
  {
   "cell_type": "code",
   "execution_count": 24,
   "metadata": {},
   "outputs": [
    {
     "name": "stdout",
     "output_type": "stream",
     "text": [
      "Epoch 1/9\n",
      "15/15 [==============================] - 2s 95ms/step - loss: 2.6787 - accuracy: 0.5246 - val_loss: 1.7579 - val_accuracy: 0.6472\n",
      "Epoch 2/9\n",
      "15/15 [==============================] - 1s 57ms/step - loss: 1.4724 - accuracy: 0.6939 - val_loss: 1.3728 - val_accuracy: 0.6900\n",
      "Epoch 3/9\n",
      "15/15 [==============================] - 1s 64ms/step - loss: 1.1052 - accuracy: 0.7571 - val_loss: 1.2221 - val_accuracy: 0.7284\n",
      "Epoch 4/9\n",
      "15/15 [==============================] - 1s 70ms/step - loss: 0.8949 - accuracy: 0.8097 - val_loss: 1.1426 - val_accuracy: 0.7579\n",
      "Epoch 5/9\n",
      "15/15 [==============================] - 1s 61ms/step - loss: 0.7249 - accuracy: 0.8512 - val_loss: 1.0873 - val_accuracy: 0.7618\n",
      "Epoch 6/9\n",
      "15/15 [==============================] - 1s 74ms/step - loss: 0.5996 - accuracy: 0.8810 - val_loss: 1.0386 - val_accuracy: 0.7641\n",
      "Epoch 7/9\n",
      "15/15 [==============================] - 1s 65ms/step - loss: 0.4941 - accuracy: 0.8988 - val_loss: 0.9869 - val_accuracy: 0.7858\n",
      "Epoch 8/9\n",
      "15/15 [==============================] - 1s 88ms/step - loss: 0.4021 - accuracy: 0.9186 - val_loss: 0.9701 - val_accuracy: 0.7902\n",
      "Epoch 9/9\n",
      "15/15 [==============================] - 1s 62ms/step - loss: 0.3314 - accuracy: 0.9315 - val_loss: 0.9558 - val_accuracy: 0.7935\n"
     ]
    }
   ],
   "source": [
    "model_2 = Sequential()\n",
    "model_2.add(layers.Dense(64, activation='relu', input_shape=(10000,)))\n",
    "model_2.add(layers.Dense(64, activation='relu'))\n",
    "model_2.add(layers.Dense(46, activation=\"softmax\"))\n",
    "\n",
    "model_2.compile(\n",
    "  optimizer = \"rmsprop\",\n",
    "  loss=\"categorical_crossentropy\",\n",
    "  metrics=[\"accuracy\"]\n",
    ")\n",
    "\n",
    "history = model_2.fit(\n",
    "  X_train, y_train, epochs=9,\n",
    "  validation_split=0.2, batch_size=512\n",
    ")"
   ]
  },
  {
   "cell_type": "code",
   "execution_count": 25,
   "metadata": {},
   "outputs": [],
   "source": [
    "history_dict = history.history"
   ]
  },
  {
   "cell_type": "code",
   "execution_count": 26,
   "metadata": {},
   "outputs": [
    {
     "name": "stdout",
     "output_type": "stream",
     "text": [
      "71/71 [==============================] - 0s 4ms/step - loss: 0.9878 - accuracy: 0.7898\n"
     ]
    }
   ],
   "source": [
    "results = model_2.evaluate(X_test, y_test)"
   ]
  },
  {
   "cell_type": "code",
   "execution_count": 28,
   "metadata": {},
   "outputs": [
    {
     "name": "stderr",
     "output_type": "stream",
     "text": [
      "C:\\Users\\DAVID-~1\\AppData\\Local\\Temp/ipykernel_15792/1416413187.py:3: DeprecationWarning: elementwise comparison failed; this will raise an error in the future.\n",
      "  hits_array = np.array(test_labels) == np.array(test_labels_copy)\n"
     ]
    },
    {
     "data": {
      "text/plain": [
       "0.0"
      ]
     },
     "execution_count": 28,
     "metadata": {},
     "output_type": "execute_result"
    }
   ],
   "source": [
    "test_labels_copy = copy.copy(y_test)\n",
    "np.random.shuffle(test_labels_copy)\n",
    "hits_array = np.array(test_labels) == np.array(test_labels_copy)\n",
    "float(np.sum(hits_array) / len(test_labels))"
   ]
  },
  {
   "cell_type": "code",
   "execution_count": 31,
   "metadata": {},
   "outputs": [
    {
     "name": "stdout",
     "output_type": "stream",
     "text": [
      "Epoch 1/20\n",
      "57/57 [==============================] - 4s 51ms/step - loss: 1.8556 - accuracy: 0.5872 - val_loss: 1.3835 - val_accuracy: 0.6628\n",
      "Epoch 2/20\n",
      "57/57 [==============================] - 2s 36ms/step - loss: 1.0324 - accuracy: 0.7581 - val_loss: 1.2509 - val_accuracy: 0.6934\n",
      "Epoch 3/20\n",
      "57/57 [==============================] - 2s 37ms/step - loss: 0.6851 - accuracy: 0.8416 - val_loss: 1.1072 - val_accuracy: 0.7373\n",
      "Epoch 4/20\n",
      "57/57 [==============================] - 2s 41ms/step - loss: 0.4536 - accuracy: 0.8976 - val_loss: 1.2453 - val_accuracy: 0.7396\n",
      "Epoch 5/20\n",
      "57/57 [==============================] - 2s 42ms/step - loss: 0.3136 - accuracy: 0.9279 - val_loss: 1.2126 - val_accuracy: 0.7435\n",
      "Epoch 6/20\n",
      "57/57 [==============================] - 2s 38ms/step - loss: 0.2380 - accuracy: 0.9461 - val_loss: 1.1583 - val_accuracy: 0.7980\n",
      "Epoch 7/20\n",
      "57/57 [==============================] - 2s 39ms/step - loss: 0.1867 - accuracy: 0.9556 - val_loss: 1.1997 - val_accuracy: 0.7908\n",
      "Epoch 8/20\n",
      "57/57 [==============================] - 2s 39ms/step - loss: 0.1630 - accuracy: 0.9594 - val_loss: 1.3617 - val_accuracy: 0.7607\n",
      "Epoch 9/20\n",
      "57/57 [==============================] - 2s 42ms/step - loss: 0.1439 - accuracy: 0.9592 - val_loss: 1.3672 - val_accuracy: 0.7858\n",
      "Epoch 10/20\n",
      "57/57 [==============================] - 2s 38ms/step - loss: 0.1305 - accuracy: 0.9589 - val_loss: 1.4091 - val_accuracy: 0.7774\n",
      "Epoch 11/20\n",
      "57/57 [==============================] - 2s 42ms/step - loss: 0.1204 - accuracy: 0.9606 - val_loss: 1.4108 - val_accuracy: 0.7746\n",
      "Epoch 12/20\n",
      "57/57 [==============================] - 2s 42ms/step - loss: 0.1115 - accuracy: 0.9603 - val_loss: 1.4028 - val_accuracy: 0.7713\n",
      "Epoch 13/20\n",
      "57/57 [==============================] - 2s 41ms/step - loss: 0.1044 - accuracy: 0.9588 - val_loss: 1.7512 - val_accuracy: 0.7819\n",
      "Epoch 14/20\n",
      "57/57 [==============================] - 2s 41ms/step - loss: 0.0998 - accuracy: 0.9626 - val_loss: 1.5617 - val_accuracy: 0.7835\n",
      "Epoch 15/20\n",
      "57/57 [==============================] - 2s 38ms/step - loss: 0.0907 - accuracy: 0.9626 - val_loss: 1.6722 - val_accuracy: 0.7791\n",
      "Epoch 16/20\n",
      "57/57 [==============================] - 2s 39ms/step - loss: 0.0891 - accuracy: 0.9623 - val_loss: 1.9214 - val_accuracy: 0.7807\n",
      "Epoch 17/20\n",
      "57/57 [==============================] - 2s 43ms/step - loss: 0.0837 - accuracy: 0.9626 - val_loss: 1.9546 - val_accuracy: 0.7852\n",
      "Epoch 18/20\n",
      "57/57 [==============================] - 2s 37ms/step - loss: 0.0872 - accuracy: 0.9616 - val_loss: 1.9629 - val_accuracy: 0.7819\n",
      "Epoch 19/20\n",
      "57/57 [==============================] - 2s 37ms/step - loss: 0.0775 - accuracy: 0.9610 - val_loss: 2.0457 - val_accuracy: 0.7807\n",
      "Epoch 20/20\n",
      "57/57 [==============================] - 2s 41ms/step - loss: 0.0771 - accuracy: 0.9614 - val_loss: 2.1471 - val_accuracy: 0.7718\n"
     ]
    },
    {
     "data": {
      "text/plain": [
       "<keras.callbacks.History at 0x162ccbd4f40>"
      ]
     },
     "execution_count": 31,
     "metadata": {},
     "output_type": "execute_result"
    }
   ],
   "source": [
    "model = Sequential()\n",
    "model.add(layers.Dense(128, activation='relu', input_shape=(10000,)))\n",
    "model.add(layers.Dense(64, activation='relu'))\n",
    "model.add(layers.Dense(64, activation='relu'))\n",
    "model.add(layers.Dense(64, activation='relu'))\n",
    "model.add(layers.Dense(46, activation='softmax'))\n",
    "\n",
    "\n",
    "model.compile(\n",
    "  optimizer='rmsprop',\n",
    "  loss=\"categorical_crossentropy\",\n",
    "  metrics=[\"accuracy\"]\n",
    ")\n",
    "\n",
    "model.fit(\n",
    "  X_train, y_train, epochs=20,\n",
    "  batch_size=128,\n",
    "  validation_split=0.2\n",
    ")\n"
   ]
  },
  {
   "cell_type": "code",
   "execution_count": null,
   "metadata": {},
   "outputs": [],
   "source": []
  }
 ],
 "metadata": {
  "kernelspec": {
   "display_name": "Python 3.9.7 ('base')",
   "language": "python",
   "name": "python3"
  },
  "language_info": {
   "codemirror_mode": {
    "name": "ipython",
    "version": 3
   },
   "file_extension": ".py",
   "mimetype": "text/x-python",
   "name": "python",
   "nbconvert_exporter": "python",
   "pygments_lexer": "ipython3",
   "version": "3.9.7"
  },
  "orig_nbformat": 4,
  "vscode": {
   "interpreter": {
    "hash": "cc2f14897ac7a0b3c9a172ad801bb417855057f30cb4b5ba4189b2698c688ddc"
   }
  }
 },
 "nbformat": 4,
 "nbformat_minor": 2
}
