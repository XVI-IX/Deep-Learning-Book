{
 "cells": [
  {
   "cell_type": "code",
   "execution_count": 5,
   "metadata": {},
   "outputs": [],
   "source": [
    "import cv2\n",
    "import numpy as np"
   ]
  },
  {
   "cell_type": "code",
   "execution_count": 4,
   "metadata": {},
   "outputs": [
    {
     "data": {
      "text/plain": [
       "'4.7.0'"
      ]
     },
     "execution_count": 4,
     "metadata": {},
     "output_type": "execute_result"
    }
   ],
   "source": [
    "cv2.__version__"
   ]
  },
  {
   "cell_type": "code",
   "execution_count": 19,
   "metadata": {},
   "outputs": [
    {
     "ename": "error",
     "evalue": "OpenCV(4.7.0) D:\\a\\opencv-python\\opencv-python\\opencv\\modules\\highgui\\src\\window.cpp:971: error: (-215:Assertion failed) size.width>0 && size.height>0 in function 'cv::imshow'\n",
     "output_type": "error",
     "traceback": [
      "\u001b[1;31m---------------------------------------------------------------------------\u001b[0m",
      "\u001b[1;31merror\u001b[0m                                     Traceback (most recent call last)",
      "Cell \u001b[1;32mIn[19], line 17\u001b[0m\n\u001b[0;32m     13\u001b[0m ret2, frame2 \u001b[39m=\u001b[39m cap2\u001b[39m.\u001b[39mread()\n\u001b[0;32m     14\u001b[0m \u001b[39m# frame = cv2.flip(frame, -1) # flip camera vertically\u001b[39;00m\n\u001b[0;32m     15\u001b[0m \u001b[39m# gray = cv2.cvtColor(frame,cv2.COLOR_BGR2GRAY)\u001b[39;00m\n\u001b[1;32m---> 17\u001b[0m cv2\u001b[39m.\u001b[39;49mimshow(\u001b[39m\"\u001b[39;49m\u001b[39mframe\u001b[39;49m\u001b[39m\"\u001b[39;49m,frame)\n\u001b[0;32m     18\u001b[0m cv2\u001b[39m.\u001b[39mimshow(\u001b[39m\"\u001b[39m\u001b[39mframe2\u001b[39m\u001b[39m\"\u001b[39m, frame2)\n\u001b[0;32m     19\u001b[0m \u001b[39m# cv2.imshow(\"gray\", gray)\u001b[39;00m\n",
      "\u001b[1;31merror\u001b[0m: OpenCV(4.7.0) D:\\a\\opencv-python\\opencv-python\\opencv\\modules\\highgui\\src\\window.cpp:971: error: (-215:Assertion failed) size.width>0 && size.height>0 in function 'cv::imshow'\n"
     ]
    }
   ],
   "source": [
    "cap = cv2.VideoCapture(0)\n",
    "cap.set(3, 640) # width\n",
    "cap.set(4, 480) # height\n",
    "cap.set(5, 60)  # framerate\n",
    "\n",
    "while(True):\n",
    "  ret, frame = cap.read()\n",
    "  # frame = cv2.flip(frame, -1) # flip camera vertically\n",
    "  # gray = cv2.cvtColor(frame,cv2.COLOR_BGR2GRAY)\n",
    "\n",
    "  cv2.imshow(\"frame\",frame)\n",
    "  # cv2.imshow(\"gray\", gray)\n",
    "\n",
    "  k = cv2.waitKey(30) & 0xFF\n",
    "  if k == 27: # pressing ESC key\n",
    "    break\n",
    "\n",
    "cap.release()\n",
    "cv2.destroyAllWindows()\n"
   ]
  },
  {
   "cell_type": "code",
   "execution_count": 1,
   "metadata": {},
   "outputs": [],
   "source": [
    "import cv2\n",
    "\n",
    "cap = cv2.VideoCapture(0)\n",
    "ret, frame = cap.read()"
   ]
  },
  {
   "cell_type": "code",
   "execution_count": 2,
   "metadata": {},
   "outputs": [],
   "source": [
    "cap.release()\n",
    "cv2.destroyAllWindows()"
   ]
  },
  {
   "cell_type": "code",
   "execution_count": null,
   "metadata": {},
   "outputs": [],
   "source": []
  }
 ],
 "metadata": {
  "kernelspec": {
   "display_name": "faceRec",
   "language": "python",
   "name": "python3"
  },
  "language_info": {
   "codemirror_mode": {
    "name": "ipython",
    "version": 3
   },
   "file_extension": ".py",
   "mimetype": "text/x-python",
   "name": "python",
   "nbconvert_exporter": "python",
   "pygments_lexer": "ipython3",
   "version": "3.10.9"
  },
  "orig_nbformat": 4,
  "vscode": {
   "interpreter": {
    "hash": "dfc735f4c341b49df5bf3d0cacf122f1ee1821e64f687cceefdb488e18fd9ee3"
   }
  }
 },
 "nbformat": 4,
 "nbformat_minor": 2
}
