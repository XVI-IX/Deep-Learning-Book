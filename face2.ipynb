{
 "cells": [
  {
   "cell_type": "code",
   "execution_count": 1,
   "metadata": {},
   "outputs": [],
   "source": [
    "import cv2"
   ]
  },
  {
   "cell_type": "code",
   "execution_count": 2,
   "metadata": {},
   "outputs": [
    {
     "data": {
      "text/plain": [
       "'4.7.0'"
      ]
     },
     "execution_count": 2,
     "metadata": {},
     "output_type": "execute_result"
    }
   ],
   "source": [
    "cv2.__version__"
   ]
  },
  {
   "cell_type": "code",
   "execution_count": 3,
   "metadata": {},
   "outputs": [],
   "source": [
    "cap = cv2.VideoCapture(0)\n",
    "cap.set(3, 640) # width\n",
    "cap.set(4, 480) # height\n",
    "cap.set(5, 60)  # framerate\n",
    "\n",
    "while(True):\n",
    "  ret, frame = cap.read()\n",
    "  # frame = cv2.flip(frame, -1) # flip camera vertically\n",
    "  gray = cv2.cvtColor(frame,cv2.COLOR_BGR2GRAY)\n",
    "\n",
    "  cv2.imshow(\"frame\",frame)\n",
    "  # cv2.imshow(\"gray\", gray)\n",
    "\n",
    "  k = cv2.waitKey(30) & 0xFF\n",
    "  if k == 27: # pressing ESC key\n",
    "    break\n",
    "\n",
    "cap.release()\n",
    "cv2.destroyAllWindows()"
   ]
  },
  {
   "cell_type": "code",
   "execution_count": null,
   "metadata": {},
   "outputs": [],
   "source": []
  }
 ],
 "metadata": {
  "kernelspec": {
   "display_name": "faceRec",
   "language": "python",
   "name": "python3"
  },
  "language_info": {
   "codemirror_mode": {
    "name": "ipython",
    "version": 3
   },
   "file_extension": ".py",
   "mimetype": "text/x-python",
   "name": "python",
   "nbconvert_exporter": "python",
   "pygments_lexer": "ipython3",
   "version": "3.10.9"
  },
  "orig_nbformat": 4,
  "vscode": {
   "interpreter": {
    "hash": "dfc735f4c341b49df5bf3d0cacf122f1ee1821e64f687cceefdb488e18fd9ee3"
   }
  }
 },
 "nbformat": 4,
 "nbformat_minor": 2
}
